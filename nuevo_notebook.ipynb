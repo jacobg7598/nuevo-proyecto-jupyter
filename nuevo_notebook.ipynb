{
 "cells": [
  {
   "cell_type": "code",
   "execution_count": 23,
   "id": "6e0dc0fa",
   "metadata": {},
   "outputs": [
    {
     "ename": "SystemExit",
     "evalue": "",
     "output_type": "error",
     "traceback": [
      "An exception has occurred, use %tb to see the full traceback.\n",
      "\u001b[31mSystemExit\u001b[39m\n"
     ]
    }
   ],
   "source": [
    "import pygame\n",
    "from sys import exit\n",
    "\n",
    "pygame.init()\n",
    "screen=pygame.display.set_mode((800,400))\n",
    "pygame.display.set_caption('Lospollosquantikos')\n",
    "clock=pygame.time.Clock()\n",
    "test_font=pygame.font.Font('graphics/PixelGamer-Regular.otf',50)\n",
    "\n",
    "#BACKGROUND\n",
    "test_surface=pygame.image.load(('graphics/parallax-mountain-bg.png'))\n",
    "test_surface1=pygame.image.load(('graphics/parallax-mountain-foreground-trees.png'))\n",
    "test_surface2=pygame.image.load(('graphics/parallax-mountain-montain-far.png'))\n",
    "test_surface3=pygame.image.load(('graphics/parallax-mountain-trees.png'))\n",
    "test_surface4=pygame.image.load(('graphics/parallax-mountain-mountains.png'))\n",
    "text_surface=test_font.render('Traka',False,'Black')\n",
    "\n",
    "fondo = pygame.transform.scale(test_surface, (800,400))\n",
    "trees= pygame.transform.scale(test_surface1, (800,400))\n",
    "mountain= pygame.transform.scale(test_surface2, (800,400))\n",
    "nature=pygame.transform.scale(test_surface3, (800,400))\n",
    "moremountain=pygame.transform.scale(test_surface4, (800,400))\n",
    "\n",
    "#Mvto\n",
    "x_pos=0\n",
    "\n",
    "while True:\n",
    "    for event in pygame.event.get():\n",
    "        if event.type ==pygame.QUIT:\n",
    "            pygame.quit()\n",
    "            exit()\n",
    "    #BACKGROUND\n",
    "    x_pos+=1\n",
    "    screen.blit(fondo,(0,0))\n",
    "    screen.blit(mountain,(x_pos,0))\n",
    "    screen.blit(moremountain,(x_pos,0))\n",
    "    screen.blit(nature,(x_pos,0))\n",
    "    screen.blit(trees,(x_pos,0))\n",
    "    screen.blit(text_surface,(300,50))\n",
    "   \n",
    "    pygame.display.update()\n",
    "    clock.tick(60) #Una cota de velocidad max\n",
    "\n"
   ]
  }
 ],
 "metadata": {
  "kernelspec": {
   "display_name": "Python 3",
   "language": "python",
   "name": "python3"
  },
  "language_info": {
   "codemirror_mode": {
    "name": "ipython",
    "version": 3
   },
   "file_extension": ".py",
   "mimetype": "text/x-python",
   "name": "python",
   "nbconvert_exporter": "python",
   "pygments_lexer": "ipython3",
   "version": "3.13.3"
  }
 },
 "nbformat": 4,
 "nbformat_minor": 5
}
