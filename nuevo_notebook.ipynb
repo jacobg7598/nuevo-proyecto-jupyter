{
 "cells": [
  {
   "cell_type": "code",
   "execution_count": null,
   "id": "6e0dc0fa",
   "metadata": {},
   "outputs": [
    {
     "ename": "SystemExit",
     "evalue": "",
     "output_type": "error",
     "traceback": [
      "An exception has occurred, use %tb to see the full traceback.\n",
      "\u001b[31mSystemExit\u001b[39m\n"
     ]
    }
   ],
   "source": [
    "import pygame\n",
    "from sys import exit\n",
    "\n",
    "pygame.init()\n",
    "screen = pygame.display.set_mode((800, 400))\n",
    "pygame.display.set_caption('Lospollosquantikos')\n",
    "clock = pygame.time.Clock()\n",
    "test_font = pygame.font.Font('graphics/PixelGamer-Regular.otf', 50)\n",
    "\n",
    "# Carga y escala de imágenes\n",
    "def load_scaled(path):\n",
    "    return pygame.transform.scale(pygame.image.load(path), (800, 400))\n",
    "\n",
    "#---FONDO---\n",
    "# Capa más lejana a más cercana\n",
    "bg = load_scaled('graphics/parallax-mountain-bg.png').convert_alpha()\n",
    "mountains_far = load_scaled('graphics/parallax-mountain-montain-far.png').convert_alpha()\n",
    "mountains_mid = load_scaled('graphics/parallax-mountain-mountains.png').convert_alpha()\n",
    "trees_mid = load_scaled('graphics/parallax-mountain-trees.png').convert_alpha()\n",
    "trees_fore = load_scaled('graphics/parallax-mountain-foreground-trees.png').convert_alpha()\n",
    "\n",
    "text_surface = test_font.render('Traka', False, 'Black')\n",
    "\n",
    "#---Personaje--- \n",
    "cat1 = pygame.image.load('graphics/Cat/cat_sprite_1.png').convert_alpha()\n",
    "cat2 = pygame.image.load('graphics/Cat/cat_sprite_2.png').convert_alpha()\n",
    "cat3 = pygame.image.load('graphics/Cat/cat_sprite_3.png').convert_alpha()\n",
    "\n",
    "cat_anim_timer = 0\n",
    "cat_x = 100\n",
    "cat_y = 300\n",
    "cat_speed = 3\n",
    "# Posiciones iniciales para scroll\n",
    "scroll_speeds = [0.5, 0.06, 0.07, 0.08, 0.09]  # Distintas velocidades por capa\n",
    "positions = [0, 0, 0, 0, 0]        # x para cada capa\n",
    "\n",
    "while True:\n",
    "    for event in pygame.event.get():\n",
    "        if event.type == pygame.QUIT:\n",
    "            pygame.quit()\n",
    "            exit()\n",
    "    #FONDO\n",
    "    # Actualiza posiciones\n",
    "    for i in range(len(positions)):\n",
    "        positions[i] -= scroll_speeds[i]\n",
    "        if positions[i] <= -800:\n",
    "            positions[i] = 0\n",
    "    # Dibujar cada capa con desplazamiento continuo\n",
    "    for i, image in enumerate([bg, mountains_far, mountains_mid, trees_mid, trees_fore]):\n",
    "        screen.blit(image, (positions[i], 0))\n",
    "        screen.blit(image, (positions[i] + 800, 0))  # Segunda copia para loop\n",
    "\n",
    "\n",
    "    #GATO\n",
    "    for j in range(len(positions)):\n",
    "        positions[i] -= scroll_speeds[i]\n",
    "        if positions[i] <= -800:\n",
    "            positions[i] = 0\n",
    "    for j, cats in enumerate([cat1, cat2,cat3]):\n",
    "        screen.blit(cats, (positions[i], 0))\n",
    "        screen.blit(cats, (positions[i] + 800, 0))  # Segunda copia para loop\n",
    "\n",
    "\n",
    "    # Texto encima de todo\n",
    "    screen.blit(text_surface, (400, 50))\n",
    "    #screen.blit(cat1,(0,0))\n",
    "\n",
    "    pygame.display.update()\n",
    "    clock.tick(60)\n",
    "\n",
    "\n"
   ]
  }
 ],
 "metadata": {
  "kernelspec": {
   "display_name": "Python 3",
   "language": "python",
   "name": "python3"
  },
  "language_info": {
   "codemirror_mode": {
    "name": "ipython",
    "version": 3
   },
   "file_extension": ".py",
   "mimetype": "text/x-python",
   "name": "python",
   "nbconvert_exporter": "python",
   "pygments_lexer": "ipython3",
   "version": "3.13.3"
  }
 },
 "nbformat": 4,
 "nbformat_minor": 5
}
